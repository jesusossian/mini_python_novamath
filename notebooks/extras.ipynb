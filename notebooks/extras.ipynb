{
 "cells": [
  {
   "cell_type": "markdown",
   "id": "d77e4609",
   "metadata": {},
   "source": [
    "# Extras"
   ]
  },
  {
   "cell_type": "code",
   "execution_count": null,
   "id": "d1cb9aef",
   "metadata": {},
   "outputs": [],
   "source": [
    "# biblioteca math\n",
    "import math as mat"
   ]
  },
  {
   "cell_type": "code",
   "execution_count": null,
   "id": "c3abc580",
   "metadata": {},
   "outputs": [],
   "source": [
    "help(mat)"
   ]
  },
  {
   "cell_type": "code",
   "execution_count": null,
   "id": "ea502f69",
   "metadata": {},
   "outputs": [],
   "source": [
    "mat.pi"
   ]
  },
  {
   "cell_type": "code",
   "execution_count": null,
   "id": "b32b97c1",
   "metadata": {},
   "outputs": [],
   "source": [
    "mat.cos(mat.pi)"
   ]
  },
  {
   "cell_type": "code",
   "execution_count": null,
   "id": "31956084",
   "metadata": {},
   "outputs": [],
   "source": [
    "mat.exp(2)"
   ]
  },
  {
   "cell_type": "code",
   "execution_count": null,
   "id": "3e316dee",
   "metadata": {},
   "outputs": [],
   "source": [
    "mat.log10(1000)"
   ]
  },
  {
   "cell_type": "code",
   "execution_count": null,
   "id": "4d38052e",
   "metadata": {},
   "outputs": [],
   "source": [
    "mat.sinh(1)"
   ]
  },
  {
   "cell_type": "code",
   "execution_count": null,
   "id": "3b55d8a3",
   "metadata": {},
   "outputs": [],
   "source": [
    "mat.factorial(6)"
   ]
  },
  {
   "cell_type": "code",
   "execution_count": null,
   "id": "59d4befd",
   "metadata": {},
   "outputs": [],
   "source": [
    "import math as mat\n",
    "import numpy as np\n",
    "\n",
    "e = mat.exp(1)\n",
    "valor = mat.sin(mat.pi)\n",
    "\n",
    "print(np.round(mat.pi,2))\n",
    "\n",
    "print(e)\n",
    "\n",
    "print(valor)\n",
    "\n",
    "\n",
    "def area(raio):\n",
    "    temp = mat.pi * raio**2\n",
    "    return temp\n",
    "\n",
    "print(\"area encontrada:\", area(10))"
   ]
  },
  {
   "cell_type": "code",
   "execution_count": null,
   "id": "7f5db572",
   "metadata": {},
   "outputs": [],
   "source": [
    "def distancia (x1, x2, y1, y2):\n",
    "    dx = x2 - x1\n",
    "    dy = y2 - y1\n",
    "    dq = dx**2 + dy**2\n",
    "    temp = mat.sqrt(dq)\n",
    "    return temp\n",
    "\n",
    "# a = (2,2) e b = (4,4)\n",
    "print(\"Distância dos pontos a e b: \", distancia(2,4,2,4))"
   ]
  },
  {
   "cell_type": "code",
   "execution_count": null,
   "id": "ae3bf883",
   "metadata": {},
   "outputs": [],
   "source": [
    "def divisivel(x,y):\n",
    "    if x % y == 0:\n",
    "        return True\n",
    "    else:\n",
    "        return False\n",
    "    \n",
    "# Verificas e 5 é divisivel por 2\n",
    "print(divisivel(5,2))\n",
    "\n",
    "# Verificas se 4 é divisivel por 2\n",
    "print(divisivel(4,2))"
   ]
  },
  {
   "cell_type": "code",
   "execution_count": null,
   "id": "a5592c08",
   "metadata": {},
   "outputs": [],
   "source": [
    "def divisivel0(x,y):\n",
    "    return x%y == 0\n",
    "\n",
    "# Verificas e 5 é divisivel por 2\n",
    "print(divisivel0(5,2))\n",
    "\n",
    "# Verificas se 4 é divisivel por 2\n",
    "print(divisivel0(4,2))"
   ]
  },
  {
   "cell_type": "code",
   "execution_count": null,
   "id": "7b8d99b4",
   "metadata": {},
   "outputs": [],
   "source": [
    "simples = \"introdução ao python\""
   ]
  },
  {
   "cell_type": "code",
   "execution_count": null,
   "id": "52287213",
   "metadata": {},
   "outputs": [],
   "source": [
    "print(simples)"
   ]
  },
  {
   "cell_type": "code",
   "execution_count": null,
   "id": "e90de2fb",
   "metadata": {},
   "outputs": [],
   "source": [
    "msg = \"curso de python\""
   ]
  },
  {
   "cell_type": "code",
   "execution_count": null,
   "id": "5a71b115",
   "metadata": {},
   "outputs": [],
   "source": [
    "msg[0]"
   ]
  },
  {
   "cell_type": "code",
   "execution_count": null,
   "id": "a508f2eb",
   "metadata": {},
   "outputs": [],
   "source": [
    "msg[-1]"
   ]
  },
  {
   "cell_type": "code",
   "execution_count": null,
   "id": "792f366a",
   "metadata": {},
   "outputs": [],
   "source": [
    "msg[0:5]"
   ]
  },
  {
   "cell_type": "code",
   "execution_count": null,
   "id": "c10f9919",
   "metadata": {},
   "outputs": [],
   "source": [
    "msg[6:]"
   ]
  },
  {
   "cell_type": "code",
   "execution_count": null,
   "id": "1554cd71",
   "metadata": {},
   "outputs": [],
   "source": [
    "msg[3:-3]"
   ]
  },
  {
   "cell_type": "code",
   "execution_count": null,
   "id": "e7aac985",
   "metadata": {},
   "outputs": [],
   "source": [
    "len(msg)"
   ]
  },
  {
   "cell_type": "code",
   "execution_count": null,
   "id": "2afdda0a",
   "metadata": {},
   "outputs": [],
   "source": [
    "msg.lower()"
   ]
  },
  {
   "cell_type": "code",
   "execution_count": null,
   "id": "559add2b",
   "metadata": {},
   "outputs": [],
   "source": [
    "msg.upper()"
   ]
  },
  {
   "cell_type": "code",
   "execution_count": null,
   "id": "7568ca86",
   "metadata": {},
   "outputs": [],
   "source": [
    "msg.split()"
   ]
  },
  {
   "cell_type": "code",
   "execution_count": null,
   "id": "97b901ca",
   "metadata": {},
   "outputs": [],
   "source": [
    "msg.find(\"de\")"
   ]
  },
  {
   "cell_type": "code",
   "execution_count": null,
   "id": "c826bef9",
   "metadata": {},
   "outputs": [],
   "source": [
    "msg0 = msg.replace(\"python\",\"C++\")"
   ]
  },
  {
   "cell_type": "code",
   "execution_count": null,
   "id": "bb6849be",
   "metadata": {},
   "outputs": [],
   "source": [
    "msg0"
   ]
  },
  {
   "cell_type": "code",
   "execution_count": null,
   "id": "6f312378",
   "metadata": {},
   "outputs": [],
   "source": [
    "lista = ['a','b','c','d','e','f']"
   ]
  },
  {
   "cell_type": "code",
   "execution_count": null,
   "id": "6578fa67",
   "metadata": {},
   "outputs": [],
   "source": [
    "lista"
   ]
  },
  {
   "cell_type": "code",
   "execution_count": null,
   "id": "ca93e2d8",
   "metadata": {},
   "outputs": [],
   "source": [
    "print(lista)"
   ]
  },
  {
   "cell_type": "code",
   "execution_count": null,
   "id": "d5cdb929",
   "metadata": {},
   "outputs": [],
   "source": [
    "lista[0]"
   ]
  },
  {
   "cell_type": "code",
   "execution_count": null,
   "id": "b018d494",
   "metadata": {},
   "outputs": [],
   "source": [
    "lista[4]"
   ]
  },
  {
   "cell_type": "code",
   "execution_count": null,
   "id": "5f3dc14f",
   "metadata": {},
   "outputs": [],
   "source": [
    "del lista[3]"
   ]
  },
  {
   "cell_type": "code",
   "execution_count": null,
   "id": "81b879ec",
   "metadata": {},
   "outputs": [],
   "source": [
    "lista"
   ]
  },
  {
   "cell_type": "code",
   "execution_count": null,
   "id": "2ef6ae3b",
   "metadata": {},
   "outputs": [],
   "source": [
    "lista.append('f')"
   ]
  },
  {
   "cell_type": "code",
   "execution_count": null,
   "id": "fe0758d5",
   "metadata": {},
   "outputs": [],
   "source": [
    "lista"
   ]
  },
  {
   "cell_type": "code",
   "execution_count": null,
   "id": "02a6727c",
   "metadata": {},
   "outputs": [],
   "source": [
    "lista.count('b')"
   ]
  },
  {
   "cell_type": "code",
   "execution_count": null,
   "id": "fe9f356f",
   "metadata": {},
   "outputs": [],
   "source": [
    "lista.count('f')"
   ]
  },
  {
   "cell_type": "code",
   "execution_count": null,
   "id": "38f244d9",
   "metadata": {},
   "outputs": [],
   "source": [
    "lista.extend([1,2,3])"
   ]
  },
  {
   "cell_type": "code",
   "execution_count": null,
   "id": "662d1dc2",
   "metadata": {},
   "outputs": [],
   "source": [
    "lista"
   ]
  },
  {
   "cell_type": "code",
   "execution_count": null,
   "id": "f68865e9",
   "metadata": {},
   "outputs": [],
   "source": [
    "type(lista[0])"
   ]
  },
  {
   "cell_type": "code",
   "execution_count": null,
   "id": "0d70b588",
   "metadata": {},
   "outputs": [],
   "source": [
    "type(lista[6])"
   ]
  },
  {
   "cell_type": "code",
   "execution_count": null,
   "id": "da4ecf24",
   "metadata": {},
   "outputs": [],
   "source": [
    "lista.pop()"
   ]
  },
  {
   "cell_type": "code",
   "execution_count": null,
   "id": "140f53b3",
   "metadata": {},
   "outputs": [],
   "source": [
    "lista.remove(1)"
   ]
  },
  {
   "cell_type": "code",
   "execution_count": null,
   "id": "de84ce47",
   "metadata": {},
   "outputs": [],
   "source": [
    "lista"
   ]
  },
  {
   "cell_type": "code",
   "execution_count": null,
   "id": "bae6f7aa",
   "metadata": {},
   "outputs": [],
   "source": [
    "lista.reverse()"
   ]
  },
  {
   "cell_type": "code",
   "execution_count": null,
   "id": "aba3e061",
   "metadata": {},
   "outputs": [],
   "source": [
    "lista"
   ]
  },
  {
   "cell_type": "code",
   "execution_count": null,
   "id": "25ab15b5",
   "metadata": {},
   "outputs": [],
   "source": [
    "lista.remove(2)"
   ]
  },
  {
   "cell_type": "code",
   "execution_count": null,
   "id": "6b8bec2d",
   "metadata": {},
   "outputs": [],
   "source": [
    "lista"
   ]
  },
  {
   "cell_type": "code",
   "execution_count": null,
   "id": "94ca3e13",
   "metadata": {},
   "outputs": [],
   "source": [
    "lista.sort()"
   ]
  },
  {
   "cell_type": "code",
   "execution_count": null,
   "id": "312c0225",
   "metadata": {},
   "outputs": [],
   "source": [
    "lista"
   ]
  },
  {
   "cell_type": "code",
   "execution_count": null,
   "id": "e7327c30",
   "metadata": {},
   "outputs": [],
   "source": [
    "lista.insert(0,1)"
   ]
  },
  {
   "cell_type": "code",
   "execution_count": null,
   "id": "b52d0390",
   "metadata": {},
   "outputs": [],
   "source": [
    "lista"
   ]
  },
  {
   "cell_type": "code",
   "execution_count": null,
   "id": "b62e53e4",
   "metadata": {},
   "outputs": [],
   "source": [
    "lista.clear()"
   ]
  },
  {
   "cell_type": "code",
   "execution_count": null,
   "id": "e5c0e757",
   "metadata": {},
   "outputs": [],
   "source": [
    "lista"
   ]
  },
  {
   "cell_type": "code",
   "execution_count": null,
   "id": "cbac8880",
   "metadata": {},
   "outputs": [],
   "source": [
    "lst = [1,2,3]"
   ]
  },
  {
   "cell_type": "code",
   "execution_count": null,
   "id": "56d18eb0",
   "metadata": {},
   "outputs": [],
   "source": [
    "max(lst)"
   ]
  },
  {
   "cell_type": "code",
   "execution_count": null,
   "id": "41b45c26",
   "metadata": {},
   "outputs": [],
   "source": [
    "min(lst)"
   ]
  },
  {
   "cell_type": "code",
   "execution_count": null,
   "id": "49956fda",
   "metadata": {},
   "outputs": [],
   "source": [
    "S = {1,2,3,4,5,6}"
   ]
  },
  {
   "cell_type": "code",
   "execution_count": null,
   "id": "a4870056",
   "metadata": {},
   "outputs": [],
   "source": [
    "S"
   ]
  },
  {
   "cell_type": "code",
   "execution_count": null,
   "id": "403facb8",
   "metadata": {},
   "outputs": [],
   "source": [
    "1 in S"
   ]
  },
  {
   "cell_type": "code",
   "execution_count": null,
   "id": "cd391ce2",
   "metadata": {},
   "outputs": [],
   "source": [
    "8 in S"
   ]
  },
  {
   "cell_type": "code",
   "execution_count": null,
   "id": "eba76e67",
   "metadata": {},
   "outputs": [],
   "source": [
    "A = set('abracadabra')"
   ]
  },
  {
   "cell_type": "code",
   "execution_count": null,
   "id": "bd4a0dcb",
   "metadata": {},
   "outputs": [],
   "source": [
    "A"
   ]
  },
  {
   "cell_type": "code",
   "execution_count": null,
   "id": "c9bfb1bc",
   "metadata": {},
   "outputs": [],
   "source": [
    "B = set('alacazam')"
   ]
  },
  {
   "cell_type": "code",
   "execution_count": null,
   "id": "b1a88387",
   "metadata": {},
   "outputs": [],
   "source": [
    "B"
   ]
  },
  {
   "cell_type": "code",
   "execution_count": null,
   "id": "127c38d7",
   "metadata": {},
   "outputs": [],
   "source": [
    "A - B"
   ]
  },
  {
   "cell_type": "code",
   "execution_count": null,
   "id": "42ab62e2",
   "metadata": {},
   "outputs": [],
   "source": [
    "A | B"
   ]
  },
  {
   "cell_type": "code",
   "execution_count": null,
   "id": "dac217c7",
   "metadata": {},
   "outputs": [],
   "source": [
    "A & B"
   ]
  },
  {
   "cell_type": "code",
   "execution_count": null,
   "id": "41508458",
   "metadata": {},
   "outputs": [],
   "source": [
    "A ^ B"
   ]
  },
  {
   "cell_type": "code",
   "execution_count": null,
   "id": "9e1a8180",
   "metadata": {},
   "outputs": [],
   "source": [
    "ramal = {'joao':2134, 'maria':2345}"
   ]
  },
  {
   "cell_type": "code",
   "execution_count": null,
   "id": "42497844",
   "metadata": {},
   "outputs": [],
   "source": [
    "ramal"
   ]
  },
  {
   "cell_type": "code",
   "execution_count": null,
   "id": "eac2c38e",
   "metadata": {},
   "outputs": [],
   "source": [
    "ramal['ana']=5050"
   ]
  },
  {
   "cell_type": "code",
   "execution_count": null,
   "id": "5ce0e6af",
   "metadata": {},
   "outputs": [],
   "source": [
    "ramal"
   ]
  },
  {
   "cell_type": "code",
   "execution_count": null,
   "id": "8507199c",
   "metadata": {},
   "outputs": [],
   "source": [
    "del ramal['maria']"
   ]
  },
  {
   "cell_type": "code",
   "execution_count": null,
   "id": "d20a7855",
   "metadata": {},
   "outputs": [],
   "source": [
    "ramal"
   ]
  },
  {
   "cell_type": "code",
   "execution_count": null,
   "id": "82298f9e",
   "metadata": {},
   "outputs": [],
   "source": [
    "list(ramal.keys())"
   ]
  },
  {
   "cell_type": "code",
   "execution_count": null,
   "id": "105cbf1d",
   "metadata": {},
   "outputs": [],
   "source": [
    "sorted(ramal.keys())"
   ]
  },
  {
   "cell_type": "markdown",
   "id": "e113bf6c",
   "metadata": {},
   "source": [
    "## Gerando um número aleatório"
   ]
  },
  {
   "cell_type": "markdown",
   "id": "2469307e",
   "metadata": {},
   "source": [
    "- A biblioteca que sabe gerar um número aleatório é a random."
   ]
  },
  {
   "cell_type": "code",
   "execution_count": null,
   "id": "af7be2aa",
   "metadata": {},
   "outputs": [],
   "source": [
    "import random"
   ]
  },
  {
   "cell_type": "markdown",
   "id": "980a48d8",
   "metadata": {},
   "source": [
    "- função randrange(): gera um número aleatório de acordo com o intervalo passado como parâmetro."
   ]
  },
  {
   "cell_type": "code",
   "execution_count": null,
   "id": "5b18d069",
   "metadata": {},
   "outputs": [],
   "source": [
    "random.randrange(0, 14)"
   ]
  },
  {
   "cell_type": "code",
   "execution_count": null,
   "id": "b0d36a81",
   "metadata": {},
   "outputs": [],
   "source": []
  }
 ],
 "metadata": {
  "kernelspec": {
   "display_name": "Python 3 (ipykernel)",
   "language": "python",
   "name": "python3"
  },
  "language_info": {
   "codemirror_mode": {
    "name": "ipython",
    "version": 3
   },
   "file_extension": ".py",
   "mimetype": "text/x-python",
   "name": "python",
   "nbconvert_exporter": "python",
   "pygments_lexer": "ipython3",
   "version": "3.10.12"
  }
 },
 "nbformat": 4,
 "nbformat_minor": 5
}
