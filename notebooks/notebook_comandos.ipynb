{
 "cells": [
  {
   "cell_type": "markdown",
   "metadata": {},
   "source": [
    "# Comandos"
   ]
  },
  {
   "cell_type": "markdown",
   "metadata": {},
   "source": [
    "## Comando **input**"
   ]
  },
  {
   "cell_type": "code",
   "execution_count": 1,
   "metadata": {},
   "outputs": [],
   "source": [
    "numero = 22\n",
    "palpite = input(\"digite um numero: \")"
   ]
  },
  {
   "cell_type": "markdown",
   "metadata": {},
   "source": [
    "## Comandos **if, elif, else**"
   ]
  },
  {
   "cell_type": "code",
   "execution_count": 2,
   "metadata": {},
   "outputs": [
    {
     "name": "stdout",
     "output_type": "stream",
     "text": [
      "palpite errado!\n"
     ]
    }
   ],
   "source": [
    "if palpite == numero:\n",
    "    print(\"palpite correto!\")\n",
    "else:\n",
    "    print(\"palpite errado!\")"
   ]
  },
  {
   "cell_type": "code",
   "execution_count": 3,
   "metadata": {},
   "outputs": [
    {
     "data": {
      "text/plain": [
       "False"
      ]
     },
     "execution_count": 3,
     "metadata": {},
     "output_type": "execute_result"
    }
   ],
   "source": [
    "bool(palpite == numero)"
   ]
  },
  {
   "cell_type": "code",
   "execution_count": 4,
   "metadata": {},
   "outputs": [
    {
     "data": {
      "text/plain": [
       "int"
      ]
     },
     "execution_count": 4,
     "metadata": {},
     "output_type": "execute_result"
    }
   ],
   "source": [
    "type(numero)"
   ]
  },
  {
   "cell_type": "code",
   "execution_count": 5,
   "metadata": {},
   "outputs": [
    {
     "data": {
      "text/plain": [
       "str"
      ]
     },
     "execution_count": 5,
     "metadata": {},
     "output_type": "execute_result"
    }
   ],
   "source": [
    "type(palpite)"
   ]
  },
  {
   "cell_type": "code",
   "execution_count": 6,
   "metadata": {},
   "outputs": [],
   "source": [
    "numero = 22\n",
    "palpite = int(input(\"digite um numero: \"))"
   ]
  },
  {
   "cell_type": "code",
   "execution_count": 7,
   "metadata": {},
   "outputs": [
    {
     "name": "stdout",
     "output_type": "stream",
     "text": [
      "palpite correto!\n"
     ]
    }
   ],
   "source": [
    "if palpite == numero:\n",
    "    print(\"palpite correto!\")\n",
    "else:\n",
    "    print(\"palpite errado!\")"
   ]
  },
  {
   "cell_type": "code",
   "execution_count": 8,
   "metadata": {},
   "outputs": [
    {
     "data": {
      "text/plain": [
       "True"
      ]
     },
     "execution_count": 8,
     "metadata": {},
     "output_type": "execute_result"
    }
   ],
   "source": [
    "bool(numero == palpite)"
   ]
  },
  {
   "cell_type": "code",
   "execution_count": 10,
   "metadata": {},
   "outputs": [
    {
     "name": "stdout",
     "output_type": "stream",
     "text": [
      "palpite correto\n"
     ]
    }
   ],
   "source": [
    "if (palpite == numero):\n",
    "    print(\"palpite correto\")\n",
    "elif (palpite > numero):\n",
    "    print(\"palpite maior que o número\")\n",
    "else:\n",
    "    print(\"palpite menor que o número\")"
   ]
  },
  {
   "cell_type": "code",
   "execution_count": 11,
   "metadata": {},
   "outputs": [
    {
     "name": "stdout",
     "output_type": "stream",
     "text": [
      "palpite correto\n"
     ]
    }
   ],
   "source": [
    "numero = 22\n",
    "palpite = int(input(\"digite um palpite: \"))\n",
    "if (palpite == numero):\n",
    "    print(\"palpite correto\")\n",
    "elif (palpite > numero):\n",
    "    print(\"palpite maior que o número\")\n",
    "else:\n",
    "    print(\"palpite menor que o número\")\n"
   ]
  },
  {
   "cell_type": "markdown",
   "metadata": {},
   "source": [
    "## loop ${\\bf while}$"
   ]
  },
  {
   "cell_type": "code",
   "execution_count": null,
   "metadata": {},
   "outputs": [],
   "source": [
    "x = 7\n",
    "while(x > 1):\n",
    "    print(\"x = \", x)\n",
    "    x = x - 1"
   ]
  },
  {
   "cell_type": "code",
   "execution_count": 12,
   "metadata": {},
   "outputs": [
    {
     "name": "stdout",
     "output_type": "stream",
     "text": [
      "palpite correto\n",
      "palpite maior que o número\n",
      "palpite maior que o número\n",
      "palpite menor que o número\n",
      "palpite menor que o número\n"
     ]
    }
   ],
   "source": [
    "numero = 22\n",
    "qtd_tentativas = 5\n",
    "tmp = 1\n",
    "while (tmp <= qtd_tentativas):\n",
    "    palpite = int(input(\"digite um palpite: \"))\n",
    "    if (palpite == numero):\n",
    "        print(\"palpite correto\")\n",
    "    elif (palpite > numero):\n",
    "        print(\"palpite maior que o número\")\n",
    "    else:\n",
    "        print(\"palpite menor que o número\")\n",
    "    tmp += 1\n"
   ]
  },
  {
   "cell_type": "code",
   "execution_count": 13,
   "metadata": {},
   "outputs": [
    {
     "name": "stdout",
     "output_type": "stream",
     "text": [
      "palpite correto\n"
     ]
    }
   ],
   "source": [
    "numero = 22\n",
    "qtd_tentativas = 5\n",
    "tmp = 1\n",
    "while (tmp <= qtd_tentativas):\n",
    "    palpite = int(input(\"digite um palpite: \"))\n",
    "    if (palpite == numero):\n",
    "        print(\"palpite correto\")\n",
    "        break\n",
    "    elif (palpite > numero):\n",
    "        print(\"palpite maior que o número\")\n",
    "    else:\n",
    "        print(\"palpite menor que o número\")\n",
    "    tmp += 1\n"
   ]
  },
  {
   "cell_type": "markdown",
   "metadata": {},
   "source": [
    "## loop ${\\bf for}$ e função ${\\bf range()}$"
   ]
  },
  {
   "cell_type": "code",
   "execution_count": null,
   "metadata": {},
   "outputs": [],
   "source": [
    "print(\"intervalo [1,10), de 1 em 1 \", end = \": \")\n",
    "for t in range(1,10):\n",
    "    print(t, end = \", \")\n",
    "print(\"\\n\")\n",
    "\n",
    "print(\"intervalo [1,10), de 2 em 2:\", end = \": \")\n",
    "for t in range(1,10,2):\n",
    "    print(t, end = \", \")\n",
    "print(\"\\n\")"
   ]
  },
  {
   "cell_type": "code",
   "execution_count": 14,
   "metadata": {},
   "outputs": [
    {
     "name": "stdout",
     "output_type": "stream",
     "text": [
      "palpite correto\n"
     ]
    }
   ],
   "source": [
    "numero = 22\n",
    "qtd_tentativas = 5\n",
    "for t in range(1,qtd_tentativas+1):\n",
    "    palpite = int(input(\"digite um palpite: \"))\n",
    "    if (palpite == numero):\n",
    "        print(\"palpite correto\")\n",
    "        break\n",
    "    elif (palpite > numero):\n",
    "        print(\"palpite maior que o número\")\n",
    "    else:\n",
    "        print(\"palpite menor que o número\")"
   ]
  },
  {
   "cell_type": "code",
   "execution_count": null,
   "metadata": {},
   "outputs": [],
   "source": []
  }
 ],
 "metadata": {
  "kernelspec": {
   "display_name": "Python 3",
   "language": "python",
   "name": "python3"
  },
  "language_info": {
   "codemirror_mode": {
    "name": "ipython",
    "version": 3
   },
   "file_extension": ".py",
   "mimetype": "text/x-python",
   "name": "python",
   "nbconvert_exporter": "python",
   "pygments_lexer": "ipython3",
   "version": "3.10.12"
  }
 },
 "nbformat": 4,
 "nbformat_minor": 2
}
