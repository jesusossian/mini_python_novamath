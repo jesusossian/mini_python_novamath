{
 "cells": [
  {
   "cell_type": "markdown",
   "metadata": {},
   "source": [
    "1. Dada a lista = [12, -2, 4, 8, 29, 45, 78, 36, -17, 2, 12, 8, 3, 3, -52].\n",
    "Implemente um código que:\n",
    "- imprima o maior elemento\n",
    "- imprima o menor elemento\n",
    "- imprima os números pares\n",
    "- imprima o número de ocorrências do primeiro elemento da lista\n",
    "- imprima a média dos elementos\n",
    "- imprima a soma dos elementos de valor negativo"
   ]
  },
  {
   "cell_type": "markdown",
   "metadata": {},
   "source": []
  },
  {
   "cell_type": "markdown",
   "metadata": {},
   "source": [
    "2. Implemente um código que leia dados do usuário (nome, sobrenome, idade) adicione em uma lista e imprima seus elementos na tela."
   ]
  },
  {
   "cell_type": "markdown",
   "metadata": {},
   "source": [
    "3. Implemente um código que leia 4 notas, imprima as notas, calcule e imprima a média aritmética."
   ]
  },
  {
   "cell_type": "markdown",
   "metadata": {},
   "source": [
    "4. Implemente um código utilizando um ${\\bf dict}$ que leia dados de entrada. O usuário deve entrar com os dados de uma pessoa como nome, apelido e cidade onde mora."
   ]
  },
  {
   "cell_type": "markdown",
   "metadata": {},
   "source": []
  }
 ],
 "metadata": {
  "kernelspec": {
   "display_name": "Python 3",
   "language": "python",
   "name": "python3"
  },
  "language_info": {
   "codemirror_mode": {
    "name": "ipython",
    "version": 3
   },
   "file_extension": ".py",
   "mimetype": "text/x-python",
   "name": "python",
   "nbconvert_exporter": "python",
   "pygments_lexer": "ipython3",
   "version": "3.10.12"
  }
 },
 "nbformat": 4,
 "nbformat_minor": 2
}
