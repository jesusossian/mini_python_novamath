{
 "cells": [
  {
   "cell_type": "markdown",
   "id": "d77e4609",
   "metadata": {},
   "source": [
    "## Bibliotenca math"
   ]
  },
  {
   "cell_type": "code",
   "execution_count": 5,
   "id": "d1cb9aef",
   "metadata": {},
   "outputs": [],
   "source": [
    "import math as mat # apelidando a biblioteca math"
   ]
  },
  {
   "cell_type": "code",
   "execution_count": 6,
   "id": "c3abc580",
   "metadata": {},
   "outputs": [
    {
     "name": "stdout",
     "output_type": "stream",
     "text": [
      "Help on built-in module math:\n",
      "\n",
      "NAME\n",
      "    math\n",
      "\n",
      "DESCRIPTION\n",
      "    This module provides access to the mathematical functions\n",
      "    defined by the C standard.\n",
      "\n",
      "FUNCTIONS\n",
      "    acos(x, /)\n",
      "        Return the arc cosine (measured in radians) of x.\n",
      "        \n",
      "        The result is between 0 and pi.\n",
      "    \n",
      "    acosh(x, /)\n",
      "        Return the inverse hyperbolic cosine of x.\n",
      "    \n",
      "    asin(x, /)\n",
      "        Return the arc sine (measured in radians) of x.\n",
      "        \n",
      "        The result is between -pi/2 and pi/2.\n",
      "    \n",
      "    asinh(x, /)\n",
      "        Return the inverse hyperbolic sine of x.\n",
      "    \n",
      "    atan(x, /)\n",
      "        Return the arc tangent (measured in radians) of x.\n",
      "        \n",
      "        The result is between -pi/2 and pi/2.\n",
      "    \n",
      "    atan2(y, x, /)\n",
      "        Return the arc tangent (measured in radians) of y/x.\n",
      "        \n",
      "        Unlike atan(y/x), the signs of both x and y are considered.\n",
      "    \n",
      "    atanh(x, /)\n",
      "        Return the inverse hyperbolic tangent of x.\n",
      "    \n",
      "    ceil(x, /)\n",
      "        Return the ceiling of x as an Integral.\n",
      "        \n",
      "        This is the smallest integer >= x.\n",
      "    \n",
      "    comb(n, k, /)\n",
      "        Number of ways to choose k items from n items without repetition and without order.\n",
      "        \n",
      "        Evaluates to n! / (k! * (n - k)!) when k <= n and evaluates\n",
      "        to zero when k > n.\n",
      "        \n",
      "        Also called the binomial coefficient because it is equivalent\n",
      "        to the coefficient of k-th term in polynomial expansion of the\n",
      "        expression (1 + x)**n.\n",
      "        \n",
      "        Raises TypeError if either of the arguments are not integers.\n",
      "        Raises ValueError if either of the arguments are negative.\n",
      "    \n",
      "    copysign(x, y, /)\n",
      "        Return a float with the magnitude (absolute value) of x but the sign of y.\n",
      "        \n",
      "        On platforms that support signed zeros, copysign(1.0, -0.0)\n",
      "        returns -1.0.\n",
      "    \n",
      "    cos(x, /)\n",
      "        Return the cosine of x (measured in radians).\n",
      "    \n",
      "    cosh(x, /)\n",
      "        Return the hyperbolic cosine of x.\n",
      "    \n",
      "    degrees(x, /)\n",
      "        Convert angle x from radians to degrees.\n",
      "    \n",
      "    dist(p, q, /)\n",
      "        Return the Euclidean distance between two points p and q.\n",
      "        \n",
      "        The points should be specified as sequences (or iterables) of\n",
      "        coordinates.  Both inputs must have the same dimension.\n",
      "        \n",
      "        Roughly equivalent to:\n",
      "            sqrt(sum((px - qx) ** 2.0 for px, qx in zip(p, q)))\n",
      "    \n",
      "    erf(x, /)\n",
      "        Error function at x.\n",
      "    \n",
      "    erfc(x, /)\n",
      "        Complementary error function at x.\n",
      "    \n",
      "    exp(x, /)\n",
      "        Return e raised to the power of x.\n",
      "    \n",
      "    expm1(x, /)\n",
      "        Return exp(x)-1.\n",
      "        \n",
      "        This function avoids the loss of precision involved in the direct evaluation of exp(x)-1 for small x.\n",
      "    \n",
      "    fabs(x, /)\n",
      "        Return the absolute value of the float x.\n",
      "    \n",
      "    factorial(x, /)\n",
      "        Find x!.\n",
      "        \n",
      "        Raise a ValueError if x is negative or non-integral.\n",
      "    \n",
      "    floor(x, /)\n",
      "        Return the floor of x as an Integral.\n",
      "        \n",
      "        This is the largest integer <= x.\n",
      "    \n",
      "    fmod(x, y, /)\n",
      "        Return fmod(x, y), according to platform C.\n",
      "        \n",
      "        x % y may differ.\n",
      "    \n",
      "    frexp(x, /)\n",
      "        Return the mantissa and exponent of x, as pair (m, e).\n",
      "        \n",
      "        m is a float and e is an int, such that x = m * 2.**e.\n",
      "        If x is 0, m and e are both 0.  Else 0.5 <= abs(m) < 1.0.\n",
      "    \n",
      "    fsum(seq, /)\n",
      "        Return an accurate floating point sum of values in the iterable seq.\n",
      "        \n",
      "        Assumes IEEE-754 floating point arithmetic.\n",
      "    \n",
      "    gamma(x, /)\n",
      "        Gamma function at x.\n",
      "    \n",
      "    gcd(*integers)\n",
      "        Greatest Common Divisor.\n",
      "    \n",
      "    hypot(...)\n",
      "        hypot(*coordinates) -> value\n",
      "        \n",
      "        Multidimensional Euclidean distance from the origin to a point.\n",
      "        \n",
      "        Roughly equivalent to:\n",
      "            sqrt(sum(x**2 for x in coordinates))\n",
      "        \n",
      "        For a two dimensional point (x, y), gives the hypotenuse\n",
      "        using the Pythagorean theorem:  sqrt(x*x + y*y).\n",
      "        \n",
      "        For example, the hypotenuse of a 3/4/5 right triangle is:\n",
      "        \n",
      "            >>> hypot(3.0, 4.0)\n",
      "            5.0\n",
      "    \n",
      "    isclose(a, b, *, rel_tol=1e-09, abs_tol=0.0)\n",
      "        Determine whether two floating point numbers are close in value.\n",
      "        \n",
      "          rel_tol\n",
      "            maximum difference for being considered \"close\", relative to the\n",
      "            magnitude of the input values\n",
      "          abs_tol\n",
      "            maximum difference for being considered \"close\", regardless of the\n",
      "            magnitude of the input values\n",
      "        \n",
      "        Return True if a is close in value to b, and False otherwise.\n",
      "        \n",
      "        For the values to be considered close, the difference between them\n",
      "        must be smaller than at least one of the tolerances.\n",
      "        \n",
      "        -inf, inf and NaN behave similarly to the IEEE 754 Standard.  That\n",
      "        is, NaN is not close to anything, even itself.  inf and -inf are\n",
      "        only close to themselves.\n",
      "    \n",
      "    isfinite(x, /)\n",
      "        Return True if x is neither an infinity nor a NaN, and False otherwise.\n",
      "    \n",
      "    isinf(x, /)\n",
      "        Return True if x is a positive or negative infinity, and False otherwise.\n",
      "    \n",
      "    isnan(x, /)\n",
      "        Return True if x is a NaN (not a number), and False otherwise.\n",
      "    \n",
      "    isqrt(n, /)\n",
      "        Return the integer part of the square root of the input.\n",
      "    \n",
      "    lcm(*integers)\n",
      "        Least Common Multiple.\n",
      "    \n",
      "    ldexp(x, i, /)\n",
      "        Return x * (2**i).\n",
      "        \n",
      "        This is essentially the inverse of frexp().\n",
      "    \n",
      "    lgamma(x, /)\n",
      "        Natural logarithm of absolute value of Gamma function at x.\n",
      "    \n",
      "    log(...)\n",
      "        log(x, [base=math.e])\n",
      "        Return the logarithm of x to the given base.\n",
      "        \n",
      "        If the base not specified, returns the natural logarithm (base e) of x.\n",
      "    \n",
      "    log10(x, /)\n",
      "        Return the base 10 logarithm of x.\n",
      "    \n",
      "    log1p(x, /)\n",
      "        Return the natural logarithm of 1+x (base e).\n",
      "        \n",
      "        The result is computed in a way which is accurate for x near zero.\n",
      "    \n",
      "    log2(x, /)\n",
      "        Return the base 2 logarithm of x.\n",
      "    \n",
      "    modf(x, /)\n",
      "        Return the fractional and integer parts of x.\n",
      "        \n",
      "        Both results carry the sign of x and are floats.\n",
      "    \n",
      "    nextafter(x, y, /)\n",
      "        Return the next floating-point value after x towards y.\n",
      "    \n",
      "    perm(n, k=None, /)\n",
      "        Number of ways to choose k items from n items without repetition and with order.\n",
      "        \n",
      "        Evaluates to n! / (n - k)! when k <= n and evaluates\n",
      "        to zero when k > n.\n",
      "        \n",
      "        If k is not specified or is None, then k defaults to n\n",
      "        and the function returns n!.\n",
      "        \n",
      "        Raises TypeError if either of the arguments are not integers.\n",
      "        Raises ValueError if either of the arguments are negative.\n",
      "    \n",
      "    pow(x, y, /)\n",
      "        Return x**y (x to the power of y).\n",
      "    \n",
      "    prod(iterable, /, *, start=1)\n",
      "        Calculate the product of all the elements in the input iterable.\n",
      "        \n",
      "        The default start value for the product is 1.\n",
      "        \n",
      "        When the iterable is empty, return the start value.  This function is\n",
      "        intended specifically for use with numeric values and may reject\n",
      "        non-numeric types.\n",
      "    \n",
      "    radians(x, /)\n",
      "        Convert angle x from degrees to radians.\n",
      "    \n",
      "    remainder(x, y, /)\n",
      "        Difference between x and the closest integer multiple of y.\n",
      "        \n",
      "        Return x - n*y where n*y is the closest integer multiple of y.\n",
      "        In the case where x is exactly halfway between two multiples of\n",
      "        y, the nearest even value of n is used. The result is always exact.\n",
      "    \n",
      "    sin(x, /)\n",
      "        Return the sine of x (measured in radians).\n",
      "    \n",
      "    sinh(x, /)\n",
      "        Return the hyperbolic sine of x.\n",
      "    \n",
      "    sqrt(x, /)\n",
      "        Return the square root of x.\n",
      "    \n",
      "    tan(x, /)\n",
      "        Return the tangent of x (measured in radians).\n",
      "    \n",
      "    tanh(x, /)\n",
      "        Return the hyperbolic tangent of x.\n",
      "    \n",
      "    trunc(x, /)\n",
      "        Truncates the Real x to the nearest Integral toward 0.\n",
      "        \n",
      "        Uses the __trunc__ magic method.\n",
      "    \n",
      "    ulp(x, /)\n",
      "        Return the value of the least significant bit of the float x.\n",
      "\n",
      "DATA\n",
      "    e = 2.718281828459045\n",
      "    inf = inf\n",
      "    nan = nan\n",
      "    pi = 3.141592653589793\n",
      "    tau = 6.283185307179586\n",
      "\n",
      "FILE\n",
      "    (built-in)\n",
      "\n",
      "\n"
     ]
    }
   ],
   "source": [
    "help(mat)"
   ]
  },
  {
   "cell_type": "code",
   "execution_count": 7,
   "id": "ea502f69",
   "metadata": {},
   "outputs": [
    {
     "data": {
      "text/plain": [
       "3.141592653589793"
      ]
     },
     "execution_count": 7,
     "metadata": {},
     "output_type": "execute_result"
    }
   ],
   "source": [
    "mat.pi"
   ]
  },
  {
   "cell_type": "code",
   "execution_count": 8,
   "id": "b32b97c1",
   "metadata": {},
   "outputs": [
    {
     "data": {
      "text/plain": [
       "-1.0"
      ]
     },
     "execution_count": 8,
     "metadata": {},
     "output_type": "execute_result"
    }
   ],
   "source": [
    "mat.cos(mat.pi)"
   ]
  },
  {
   "cell_type": "code",
   "execution_count": 9,
   "id": "31956084",
   "metadata": {},
   "outputs": [
    {
     "data": {
      "text/plain": [
       "7.38905609893065"
      ]
     },
     "execution_count": 9,
     "metadata": {},
     "output_type": "execute_result"
    }
   ],
   "source": [
    "mat.exp(2)"
   ]
  },
  {
   "cell_type": "code",
   "execution_count": 10,
   "id": "3e316dee",
   "metadata": {},
   "outputs": [
    {
     "data": {
      "text/plain": [
       "3.0"
      ]
     },
     "execution_count": 10,
     "metadata": {},
     "output_type": "execute_result"
    }
   ],
   "source": [
    "mat.log10(1000)"
   ]
  },
  {
   "cell_type": "code",
   "execution_count": 11,
   "id": "4d38052e",
   "metadata": {},
   "outputs": [
    {
     "data": {
      "text/plain": [
       "1.1752011936438014"
      ]
     },
     "execution_count": 11,
     "metadata": {},
     "output_type": "execute_result"
    }
   ],
   "source": [
    "mat.sinh(1)"
   ]
  },
  {
   "cell_type": "code",
   "execution_count": 12,
   "id": "3b55d8a3",
   "metadata": {},
   "outputs": [
    {
     "data": {
      "text/plain": [
       "720"
      ]
     },
     "execution_count": 12,
     "metadata": {},
     "output_type": "execute_result"
    }
   ],
   "source": [
    "mat.factorial(6)"
   ]
  },
  {
   "cell_type": "code",
   "execution_count": 13,
   "id": "59d4befd",
   "metadata": {},
   "outputs": [
    {
     "name": "stdout",
     "output_type": "stream",
     "text": [
      "3.14\n",
      "2.718281828459045\n",
      "1.2246467991473532e-16\n",
      "area encontrada: 314.1592653589793\n"
     ]
    }
   ],
   "source": [
    "import math as mat\n",
    "import numpy as np\n",
    "\n",
    "e = mat.exp(1)\n",
    "valor = mat.sin(mat.pi)\n",
    "\n",
    "print(np.round(mat.pi,2))\n",
    "\n",
    "print(e)\n",
    "\n",
    "print(valor)\n",
    "\n",
    "\n",
    "def area(raio):\n",
    "    temp = mat.pi * raio**2\n",
    "    return temp\n",
    "\n",
    "print(\"area encontrada:\", area(10))"
   ]
  },
  {
   "cell_type": "code",
   "execution_count": 14,
   "id": "7f5db572",
   "metadata": {},
   "outputs": [
    {
     "name": "stdout",
     "output_type": "stream",
     "text": [
      "Distância dos pontos a e b:  2.8284271247461903\n"
     ]
    }
   ],
   "source": [
    "def distancia (x1, x2, y1, y2):\n",
    "    dx = x2 - x1\n",
    "    dy = y2 - y1\n",
    "    dq = dx**2 + dy**2\n",
    "    temp = mat.sqrt(dq)\n",
    "    return temp\n",
    "\n",
    "# a = (2,2) e b = (4,4)\n",
    "print(\"Distância dos pontos a e b: \", distancia(2,4,2,4))"
   ]
  },
  {
   "cell_type": "code",
   "execution_count": 15,
   "id": "ae3bf883",
   "metadata": {},
   "outputs": [
    {
     "name": "stdout",
     "output_type": "stream",
     "text": [
      "False\n",
      "True\n"
     ]
    }
   ],
   "source": [
    "def divisivel(x,y):\n",
    "    if x % y == 0:\n",
    "        return True\n",
    "    else:\n",
    "        return False\n",
    "    \n",
    "# Verificas e 5 é divisivel por 2\n",
    "print(divisivel(5,2))\n",
    "\n",
    "# Verificas se 4 é divisivel por 2\n",
    "print(divisivel(4,2))"
   ]
  },
  {
   "cell_type": "code",
   "execution_count": 16,
   "id": "a5592c08",
   "metadata": {},
   "outputs": [
    {
     "name": "stdout",
     "output_type": "stream",
     "text": [
      "False\n",
      "True\n"
     ]
    }
   ],
   "source": [
    "def divisivel0(x,y):\n",
    "    return x%y == 0\n",
    "\n",
    "# Verificas e 5 é divisivel por 2\n",
    "print(divisivel0(5,2))\n",
    "\n",
    "# Verificas se 4 é divisivel por 2\n",
    "print(divisivel0(4,2))"
   ]
  },
  {
   "cell_type": "code",
   "execution_count": null,
   "id": "2b334cc6",
   "metadata": {},
   "outputs": [],
   "source": []
  },
  {
   "cell_type": "code",
   "execution_count": 17,
   "id": "7b8d99b4",
   "metadata": {},
   "outputs": [],
   "source": [
    "simples = \"introdução ao python\""
   ]
  },
  {
   "cell_type": "code",
   "execution_count": 18,
   "id": "52287213",
   "metadata": {},
   "outputs": [
    {
     "name": "stdout",
     "output_type": "stream",
     "text": [
      "introdução ao python\n"
     ]
    }
   ],
   "source": [
    "print(simples)"
   ]
  },
  {
   "cell_type": "code",
   "execution_count": 19,
   "id": "e90de2fb",
   "metadata": {},
   "outputs": [],
   "source": [
    "msg = \"curso de python\""
   ]
  },
  {
   "cell_type": "code",
   "execution_count": 20,
   "id": "5a71b115",
   "metadata": {},
   "outputs": [
    {
     "data": {
      "text/plain": [
       "'c'"
      ]
     },
     "execution_count": 20,
     "metadata": {},
     "output_type": "execute_result"
    }
   ],
   "source": [
    "msg[0]"
   ]
  },
  {
   "cell_type": "code",
   "execution_count": 21,
   "id": "a508f2eb",
   "metadata": {},
   "outputs": [
    {
     "data": {
      "text/plain": [
       "'n'"
      ]
     },
     "execution_count": 21,
     "metadata": {},
     "output_type": "execute_result"
    }
   ],
   "source": [
    "msg[-1]"
   ]
  },
  {
   "cell_type": "code",
   "execution_count": 22,
   "id": "792f366a",
   "metadata": {},
   "outputs": [
    {
     "data": {
      "text/plain": [
       "'curso'"
      ]
     },
     "execution_count": 22,
     "metadata": {},
     "output_type": "execute_result"
    }
   ],
   "source": [
    "msg[0:5]"
   ]
  },
  {
   "cell_type": "code",
   "execution_count": 23,
   "id": "c10f9919",
   "metadata": {},
   "outputs": [
    {
     "data": {
      "text/plain": [
       "'de python'"
      ]
     },
     "execution_count": 23,
     "metadata": {},
     "output_type": "execute_result"
    }
   ],
   "source": [
    "msg[6:]"
   ]
  },
  {
   "cell_type": "code",
   "execution_count": 24,
   "id": "1554cd71",
   "metadata": {},
   "outputs": [
    {
     "data": {
      "text/plain": [
       "'so de pyt'"
      ]
     },
     "execution_count": 24,
     "metadata": {},
     "output_type": "execute_result"
    }
   ],
   "source": [
    "msg[3:-3]"
   ]
  },
  {
   "cell_type": "code",
   "execution_count": 25,
   "id": "e7aac985",
   "metadata": {},
   "outputs": [
    {
     "data": {
      "text/plain": [
       "15"
      ]
     },
     "execution_count": 25,
     "metadata": {},
     "output_type": "execute_result"
    }
   ],
   "source": [
    "len(msg)"
   ]
  },
  {
   "cell_type": "code",
   "execution_count": 26,
   "id": "2afdda0a",
   "metadata": {},
   "outputs": [
    {
     "data": {
      "text/plain": [
       "'curso de python'"
      ]
     },
     "execution_count": 26,
     "metadata": {},
     "output_type": "execute_result"
    }
   ],
   "source": [
    "msg.lower()"
   ]
  },
  {
   "cell_type": "code",
   "execution_count": 27,
   "id": "559add2b",
   "metadata": {},
   "outputs": [
    {
     "data": {
      "text/plain": [
       "'CURSO DE PYTHON'"
      ]
     },
     "execution_count": 27,
     "metadata": {},
     "output_type": "execute_result"
    }
   ],
   "source": [
    "msg.upper()"
   ]
  },
  {
   "cell_type": "code",
   "execution_count": 28,
   "id": "7568ca86",
   "metadata": {},
   "outputs": [
    {
     "data": {
      "text/plain": [
       "['curso', 'de', 'python']"
      ]
     },
     "execution_count": 28,
     "metadata": {},
     "output_type": "execute_result"
    }
   ],
   "source": [
    "msg.split()"
   ]
  },
  {
   "cell_type": "code",
   "execution_count": 29,
   "id": "97b901ca",
   "metadata": {},
   "outputs": [
    {
     "data": {
      "text/plain": [
       "6"
      ]
     },
     "execution_count": 29,
     "metadata": {},
     "output_type": "execute_result"
    }
   ],
   "source": [
    "msg.find(\"de\")"
   ]
  },
  {
   "cell_type": "code",
   "execution_count": 30,
   "id": "c826bef9",
   "metadata": {},
   "outputs": [],
   "source": [
    "msg0 = msg.replace(\"python\",\"C++\")"
   ]
  },
  {
   "cell_type": "code",
   "execution_count": 31,
   "id": "bb6849be",
   "metadata": {},
   "outputs": [
    {
     "data": {
      "text/plain": [
       "'curso de C++'"
      ]
     },
     "execution_count": 31,
     "metadata": {},
     "output_type": "execute_result"
    }
   ],
   "source": [
    "msg0"
   ]
  },
  {
   "cell_type": "code",
   "execution_count": 32,
   "id": "6f312378",
   "metadata": {},
   "outputs": [],
   "source": [
    "lista = ['a','b','c','d','e','f']"
   ]
  },
  {
   "cell_type": "code",
   "execution_count": 33,
   "id": "6578fa67",
   "metadata": {},
   "outputs": [
    {
     "data": {
      "text/plain": [
       "['a', 'b', 'c', 'd', 'e', 'f']"
      ]
     },
     "execution_count": 33,
     "metadata": {},
     "output_type": "execute_result"
    }
   ],
   "source": [
    "lista"
   ]
  },
  {
   "cell_type": "code",
   "execution_count": 34,
   "id": "ca93e2d8",
   "metadata": {},
   "outputs": [
    {
     "name": "stdout",
     "output_type": "stream",
     "text": [
      "['a', 'b', 'c', 'd', 'e', 'f']\n"
     ]
    }
   ],
   "source": [
    "print(lista)"
   ]
  },
  {
   "cell_type": "code",
   "execution_count": 35,
   "id": "d5cdb929",
   "metadata": {},
   "outputs": [
    {
     "data": {
      "text/plain": [
       "'a'"
      ]
     },
     "execution_count": 35,
     "metadata": {},
     "output_type": "execute_result"
    }
   ],
   "source": [
    "lista[0]"
   ]
  },
  {
   "cell_type": "code",
   "execution_count": 36,
   "id": "b018d494",
   "metadata": {},
   "outputs": [
    {
     "data": {
      "text/plain": [
       "'e'"
      ]
     },
     "execution_count": 36,
     "metadata": {},
     "output_type": "execute_result"
    }
   ],
   "source": [
    "lista[4]"
   ]
  },
  {
   "cell_type": "code",
   "execution_count": 37,
   "id": "5f3dc14f",
   "metadata": {},
   "outputs": [],
   "source": [
    "del lista[3]"
   ]
  },
  {
   "cell_type": "code",
   "execution_count": 38,
   "id": "81b879ec",
   "metadata": {},
   "outputs": [
    {
     "data": {
      "text/plain": [
       "['a', 'b', 'c', 'e', 'f']"
      ]
     },
     "execution_count": 38,
     "metadata": {},
     "output_type": "execute_result"
    }
   ],
   "source": [
    "lista"
   ]
  },
  {
   "cell_type": "code",
   "execution_count": 39,
   "id": "2ef6ae3b",
   "metadata": {},
   "outputs": [],
   "source": [
    "lista.append('f')"
   ]
  },
  {
   "cell_type": "code",
   "execution_count": 40,
   "id": "fe0758d5",
   "metadata": {},
   "outputs": [
    {
     "data": {
      "text/plain": [
       "['a', 'b', 'c', 'e', 'f', 'f']"
      ]
     },
     "execution_count": 40,
     "metadata": {},
     "output_type": "execute_result"
    }
   ],
   "source": [
    "lista"
   ]
  },
  {
   "cell_type": "code",
   "execution_count": 41,
   "id": "02a6727c",
   "metadata": {},
   "outputs": [
    {
     "data": {
      "text/plain": [
       "1"
      ]
     },
     "execution_count": 41,
     "metadata": {},
     "output_type": "execute_result"
    }
   ],
   "source": [
    "lista.count('b')"
   ]
  },
  {
   "cell_type": "code",
   "execution_count": 42,
   "id": "fe9f356f",
   "metadata": {},
   "outputs": [
    {
     "data": {
      "text/plain": [
       "2"
      ]
     },
     "execution_count": 42,
     "metadata": {},
     "output_type": "execute_result"
    }
   ],
   "source": [
    "lista.count('f')"
   ]
  },
  {
   "cell_type": "code",
   "execution_count": 43,
   "id": "38f244d9",
   "metadata": {},
   "outputs": [],
   "source": [
    "lista.extend([1,2,3])"
   ]
  },
  {
   "cell_type": "code",
   "execution_count": 44,
   "id": "662d1dc2",
   "metadata": {},
   "outputs": [
    {
     "data": {
      "text/plain": [
       "['a', 'b', 'c', 'e', 'f', 'f', 1, 2, 3]"
      ]
     },
     "execution_count": 44,
     "metadata": {},
     "output_type": "execute_result"
    }
   ],
   "source": [
    "lista"
   ]
  },
  {
   "cell_type": "code",
   "execution_count": 45,
   "id": "f68865e9",
   "metadata": {},
   "outputs": [
    {
     "data": {
      "text/plain": [
       "str"
      ]
     },
     "execution_count": 45,
     "metadata": {},
     "output_type": "execute_result"
    }
   ],
   "source": [
    "type(lista[0])"
   ]
  },
  {
   "cell_type": "code",
   "execution_count": 46,
   "id": "0d70b588",
   "metadata": {},
   "outputs": [
    {
     "data": {
      "text/plain": [
       "int"
      ]
     },
     "execution_count": 46,
     "metadata": {},
     "output_type": "execute_result"
    }
   ],
   "source": [
    "type(lista[6])"
   ]
  },
  {
   "cell_type": "code",
   "execution_count": 47,
   "id": "da4ecf24",
   "metadata": {},
   "outputs": [
    {
     "data": {
      "text/plain": [
       "3"
      ]
     },
     "execution_count": 47,
     "metadata": {},
     "output_type": "execute_result"
    }
   ],
   "source": [
    "lista.pop()"
   ]
  },
  {
   "cell_type": "code",
   "execution_count": 48,
   "id": "140f53b3",
   "metadata": {},
   "outputs": [],
   "source": [
    "lista.remove(1)"
   ]
  },
  {
   "cell_type": "code",
   "execution_count": 49,
   "id": "de84ce47",
   "metadata": {},
   "outputs": [
    {
     "data": {
      "text/plain": [
       "['a', 'b', 'c', 'e', 'f', 'f', 2]"
      ]
     },
     "execution_count": 49,
     "metadata": {},
     "output_type": "execute_result"
    }
   ],
   "source": [
    "lista"
   ]
  },
  {
   "cell_type": "code",
   "execution_count": 50,
   "id": "bae6f7aa",
   "metadata": {},
   "outputs": [],
   "source": [
    "lista.reverse()"
   ]
  },
  {
   "cell_type": "code",
   "execution_count": 51,
   "id": "aba3e061",
   "metadata": {},
   "outputs": [
    {
     "data": {
      "text/plain": [
       "[2, 'f', 'f', 'e', 'c', 'b', 'a']"
      ]
     },
     "execution_count": 51,
     "metadata": {},
     "output_type": "execute_result"
    }
   ],
   "source": [
    "lista"
   ]
  },
  {
   "cell_type": "code",
   "execution_count": 52,
   "id": "25ab15b5",
   "metadata": {},
   "outputs": [],
   "source": [
    "lista.remove(2)"
   ]
  },
  {
   "cell_type": "code",
   "execution_count": 53,
   "id": "6b8bec2d",
   "metadata": {},
   "outputs": [
    {
     "data": {
      "text/plain": [
       "['f', 'f', 'e', 'c', 'b', 'a']"
      ]
     },
     "execution_count": 53,
     "metadata": {},
     "output_type": "execute_result"
    }
   ],
   "source": [
    "lista"
   ]
  },
  {
   "cell_type": "code",
   "execution_count": 54,
   "id": "94ca3e13",
   "metadata": {},
   "outputs": [],
   "source": [
    "lista.sort()"
   ]
  },
  {
   "cell_type": "code",
   "execution_count": 55,
   "id": "312c0225",
   "metadata": {},
   "outputs": [
    {
     "data": {
      "text/plain": [
       "['a', 'b', 'c', 'e', 'f', 'f']"
      ]
     },
     "execution_count": 55,
     "metadata": {},
     "output_type": "execute_result"
    }
   ],
   "source": [
    "lista"
   ]
  },
  {
   "cell_type": "code",
   "execution_count": 56,
   "id": "e7327c30",
   "metadata": {},
   "outputs": [],
   "source": [
    "lista.insert(0,1)"
   ]
  },
  {
   "cell_type": "code",
   "execution_count": 57,
   "id": "b52d0390",
   "metadata": {},
   "outputs": [
    {
     "data": {
      "text/plain": [
       "[1, 'a', 'b', 'c', 'e', 'f', 'f']"
      ]
     },
     "execution_count": 57,
     "metadata": {},
     "output_type": "execute_result"
    }
   ],
   "source": [
    "lista"
   ]
  },
  {
   "cell_type": "code",
   "execution_count": 58,
   "id": "b62e53e4",
   "metadata": {},
   "outputs": [],
   "source": [
    "lista.clear()"
   ]
  },
  {
   "cell_type": "code",
   "execution_count": 59,
   "id": "e5c0e757",
   "metadata": {},
   "outputs": [
    {
     "data": {
      "text/plain": [
       "[]"
      ]
     },
     "execution_count": 59,
     "metadata": {},
     "output_type": "execute_result"
    }
   ],
   "source": [
    "lista"
   ]
  },
  {
   "cell_type": "code",
   "execution_count": 60,
   "id": "cbac8880",
   "metadata": {},
   "outputs": [],
   "source": [
    "lst = [1,2,3]"
   ]
  },
  {
   "cell_type": "code",
   "execution_count": 61,
   "id": "56d18eb0",
   "metadata": {},
   "outputs": [
    {
     "data": {
      "text/plain": [
       "3"
      ]
     },
     "execution_count": 61,
     "metadata": {},
     "output_type": "execute_result"
    }
   ],
   "source": [
    "max(lst)"
   ]
  },
  {
   "cell_type": "code",
   "execution_count": 62,
   "id": "41b45c26",
   "metadata": {},
   "outputs": [
    {
     "data": {
      "text/plain": [
       "1"
      ]
     },
     "execution_count": 62,
     "metadata": {},
     "output_type": "execute_result"
    }
   ],
   "source": [
    "min(lst)"
   ]
  },
  {
   "cell_type": "code",
   "execution_count": 63,
   "id": "49956fda",
   "metadata": {},
   "outputs": [],
   "source": [
    "S = {1,2,3,4,5,6}"
   ]
  },
  {
   "cell_type": "code",
   "execution_count": 64,
   "id": "a4870056",
   "metadata": {},
   "outputs": [
    {
     "data": {
      "text/plain": [
       "{1, 2, 3, 4, 5, 6}"
      ]
     },
     "execution_count": 64,
     "metadata": {},
     "output_type": "execute_result"
    }
   ],
   "source": [
    "S"
   ]
  },
  {
   "cell_type": "code",
   "execution_count": 65,
   "id": "403facb8",
   "metadata": {},
   "outputs": [
    {
     "data": {
      "text/plain": [
       "True"
      ]
     },
     "execution_count": 65,
     "metadata": {},
     "output_type": "execute_result"
    }
   ],
   "source": [
    "1 in S"
   ]
  },
  {
   "cell_type": "code",
   "execution_count": 66,
   "id": "cd391ce2",
   "metadata": {},
   "outputs": [
    {
     "data": {
      "text/plain": [
       "False"
      ]
     },
     "execution_count": 66,
     "metadata": {},
     "output_type": "execute_result"
    }
   ],
   "source": [
    "8 in S"
   ]
  },
  {
   "cell_type": "code",
   "execution_count": 67,
   "id": "eba76e67",
   "metadata": {},
   "outputs": [],
   "source": [
    "A = set('abracadabra')"
   ]
  },
  {
   "cell_type": "code",
   "execution_count": 68,
   "id": "bd4a0dcb",
   "metadata": {},
   "outputs": [
    {
     "data": {
      "text/plain": [
       "{'a', 'b', 'c', 'd', 'r'}"
      ]
     },
     "execution_count": 68,
     "metadata": {},
     "output_type": "execute_result"
    }
   ],
   "source": [
    "A"
   ]
  },
  {
   "cell_type": "code",
   "execution_count": 69,
   "id": "c9bfb1bc",
   "metadata": {},
   "outputs": [],
   "source": [
    "B = set('alacazam')"
   ]
  },
  {
   "cell_type": "code",
   "execution_count": 70,
   "id": "b1a88387",
   "metadata": {},
   "outputs": [
    {
     "data": {
      "text/plain": [
       "{'a', 'c', 'l', 'm', 'z'}"
      ]
     },
     "execution_count": 70,
     "metadata": {},
     "output_type": "execute_result"
    }
   ],
   "source": [
    "B"
   ]
  },
  {
   "cell_type": "code",
   "execution_count": 71,
   "id": "127c38d7",
   "metadata": {},
   "outputs": [
    {
     "data": {
      "text/plain": [
       "{'b', 'd', 'r'}"
      ]
     },
     "execution_count": 71,
     "metadata": {},
     "output_type": "execute_result"
    }
   ],
   "source": [
    "A - B"
   ]
  },
  {
   "cell_type": "code",
   "execution_count": 72,
   "id": "42ab62e2",
   "metadata": {},
   "outputs": [
    {
     "data": {
      "text/plain": [
       "{'a', 'b', 'c', 'd', 'l', 'm', 'r', 'z'}"
      ]
     },
     "execution_count": 72,
     "metadata": {},
     "output_type": "execute_result"
    }
   ],
   "source": [
    "A | B"
   ]
  },
  {
   "cell_type": "code",
   "execution_count": 73,
   "id": "dac217c7",
   "metadata": {},
   "outputs": [
    {
     "data": {
      "text/plain": [
       "{'a', 'c'}"
      ]
     },
     "execution_count": 73,
     "metadata": {},
     "output_type": "execute_result"
    }
   ],
   "source": [
    "A & B"
   ]
  },
  {
   "cell_type": "code",
   "execution_count": 74,
   "id": "41508458",
   "metadata": {},
   "outputs": [
    {
     "data": {
      "text/plain": [
       "{'b', 'd', 'l', 'm', 'r', 'z'}"
      ]
     },
     "execution_count": 74,
     "metadata": {},
     "output_type": "execute_result"
    }
   ],
   "source": [
    "A ^ B"
   ]
  },
  {
   "cell_type": "code",
   "execution_count": 75,
   "id": "9e1a8180",
   "metadata": {},
   "outputs": [],
   "source": [
    "ramal = {'joao':2134, 'maria':2345}"
   ]
  },
  {
   "cell_type": "code",
   "execution_count": 76,
   "id": "42497844",
   "metadata": {},
   "outputs": [
    {
     "data": {
      "text/plain": [
       "{'joao': 2134, 'maria': 2345}"
      ]
     },
     "execution_count": 76,
     "metadata": {},
     "output_type": "execute_result"
    }
   ],
   "source": [
    "ramal"
   ]
  },
  {
   "cell_type": "code",
   "execution_count": 77,
   "id": "eac2c38e",
   "metadata": {},
   "outputs": [],
   "source": [
    "ramal['ana']=5050"
   ]
  },
  {
   "cell_type": "code",
   "execution_count": 78,
   "id": "5ce0e6af",
   "metadata": {},
   "outputs": [
    {
     "data": {
      "text/plain": [
       "{'joao': 2134, 'maria': 2345, 'ana': 5050}"
      ]
     },
     "execution_count": 78,
     "metadata": {},
     "output_type": "execute_result"
    }
   ],
   "source": [
    "ramal"
   ]
  },
  {
   "cell_type": "code",
   "execution_count": 79,
   "id": "8507199c",
   "metadata": {},
   "outputs": [],
   "source": [
    "del ramal['maria']"
   ]
  },
  {
   "cell_type": "code",
   "execution_count": 80,
   "id": "d20a7855",
   "metadata": {},
   "outputs": [
    {
     "data": {
      "text/plain": [
       "{'joao': 2134, 'ana': 5050}"
      ]
     },
     "execution_count": 80,
     "metadata": {},
     "output_type": "execute_result"
    }
   ],
   "source": [
    "ramal"
   ]
  },
  {
   "cell_type": "code",
   "execution_count": 81,
   "id": "82298f9e",
   "metadata": {},
   "outputs": [
    {
     "data": {
      "text/plain": [
       "['joao', 'ana']"
      ]
     },
     "execution_count": 81,
     "metadata": {},
     "output_type": "execute_result"
    }
   ],
   "source": [
    "list(ramal.keys())"
   ]
  },
  {
   "cell_type": "code",
   "execution_count": 82,
   "id": "105cbf1d",
   "metadata": {},
   "outputs": [
    {
     "data": {
      "text/plain": [
       "['ana', 'joao']"
      ]
     },
     "execution_count": 82,
     "metadata": {},
     "output_type": "execute_result"
    }
   ],
   "source": [
    "sorted(ramal.keys())"
   ]
  },
  {
   "cell_type": "code",
   "execution_count": null,
   "id": "c2f90680",
   "metadata": {},
   "outputs": [],
   "source": []
  },
  {
   "cell_type": "markdown",
   "id": "e113bf6c",
   "metadata": {},
   "source": [
    "## Gerando um número aleatório"
   ]
  },
  {
   "cell_type": "markdown",
   "id": "2469307e",
   "metadata": {},
   "source": [
    "- A biblioteca que sabe gerar um número aleatório é a random."
   ]
  },
  {
   "cell_type": "code",
   "execution_count": 83,
   "id": "af7be2aa",
   "metadata": {},
   "outputs": [],
   "source": [
    "import random"
   ]
  },
  {
   "cell_type": "markdown",
   "id": "980a48d8",
   "metadata": {},
   "source": [
    "- função randrange(): gera um número aleatório de acordo com o intervalo passado como parâmetro."
   ]
  },
  {
   "cell_type": "code",
   "execution_count": 84,
   "id": "5b18d069",
   "metadata": {},
   "outputs": [
    {
     "data": {
      "text/plain": [
       "10"
      ]
     },
     "execution_count": 84,
     "metadata": {},
     "output_type": "execute_result"
    }
   ],
   "source": [
    "random.randrange(0, 14)"
   ]
  },
  {
   "cell_type": "code",
   "execution_count": null,
   "id": "b0d36a81",
   "metadata": {},
   "outputs": [],
   "source": []
  }
 ],
 "metadata": {
  "kernelspec": {
   "display_name": "Python 3 (ipykernel)",
   "language": "python",
   "name": "python3"
  },
  "language_info": {
   "codemirror_mode": {
    "name": "ipython",
    "version": 3
   },
   "file_extension": ".py",
   "mimetype": "text/x-python",
   "name": "python",
   "nbconvert_exporter": "python",
   "pygments_lexer": "ipython3",
   "version": "3.10.12"
  }
 },
 "nbformat": 4,
 "nbformat_minor": 5
}
